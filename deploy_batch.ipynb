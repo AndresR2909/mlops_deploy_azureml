{
 "cells": [
  {
   "cell_type": "code",
   "execution_count": 1,
   "metadata": {},
   "outputs": [],
   "source": [
    "from azure.identity import DefaultAzureCredential, InteractiveBrowserCredential, AzureCliCredential\n",
    "from azure.ai.ml import MLClient, Input\n",
    "from azure.ai.ml.constants import AssetTypes, InputOutputModes, BatchDeploymentOutputAction\n",
    "from azure.ai.ml.entities import BatchEndpoint, Environment, BatchDeployment, BatchRetrySettings, CodeConfiguration\n",
    "import mlflow"
   ]
  },
  {
   "cell_type": "code",
   "execution_count": 2,
   "metadata": {},
   "outputs": [],
   "source": [
    "try:\n",
    "    credential = DefaultAzureCredential()\n",
    "    # Check if given credential can get token successfully.\n",
    "    credential.get_token(\"https://management.azure.com/.default\")\n",
    "except Exception as ex:\n",
    "    # Fall back to InteractiveBrowserCredential in case DefaultAzureCredential not work\n",
    "    # This will open a browser page for\n",
    "    credential = InteractiveBrowserCredential()"
   ]
  },
  {
   "cell_type": "code",
   "execution_count": 3,
   "metadata": {},
   "outputs": [
    {
     "name": "stderr",
     "output_type": "stream",
     "text": [
      "Found the config file in: .\\.azureml\\config.json\n"
     ]
    }
   ],
   "source": [
    "config_path = './.azureml/config.json'\n",
    "ml_client = MLClient.from_config(credential=credential, config_path=config_path)\n",
    "\n",
    "\n",
    "# Se configura tracking url ya que se está corriendo localmente, en azure compute es configurado automáticamente\n",
    "azureml_mlflow_uri = ml_client.workspaces.get(ml_client.workspace_name).mlflow_tracking_uri\n",
    "mlflow.set_tracking_uri(azureml_mlflow_uri)"
   ]
  },
  {
   "cell_type": "code",
   "execution_count": 4,
   "metadata": {},
   "outputs": [],
   "source": [
    "import warnings\n",
    "\n",
    "warnings.simplefilter(\"ignore\")"
   ]
  },
  {
   "cell_type": "code",
   "execution_count": 6,
   "metadata": {},
   "outputs": [
    {
     "data": {
      "text/plain": [
       "<azure.ai.ml._restclient.v2022_05_01.models._models_py3.BatchEndpointData at 0x241ce3435e0>"
      ]
     },
     "execution_count": 6,
     "metadata": {},
     "output_type": "execute_result"
    }
   ],
   "source": [
    "import random\n",
    "import string\n",
    "\n",
    "allowed_chars = string.ascii_lowercase + string.digits\n",
    "endpoint_suffix = \"\".join(random.choice(allowed_chars) for x in range(5))\n",
    "endpoint_name = \"andres-diabetes-batch-\" + endpoint_suffix\n",
    "\n",
    "endpoint = BatchEndpoint(\n",
    "    name=endpoint_name,\n",
    "    description=\"A batch endpoint for scoring entities of the dataset.\",\n",
    "    tags={\"type\": \"classification\",\n",
    "          \"model\": \"sk-learn, keras\"}\n",
    ")\n",
    "\n",
    "ml_client.begin_create_or_update(endpoint).result()"
   ]
  },
  {
   "cell_type": "code",
   "execution_count": 7,
   "metadata": {},
   "outputs": [
    {
     "name": "stderr",
     "output_type": "stream",
     "text": [
      "Uploading deploy (0.0 MBs): 100%|##########| 4344/4344 [00:00<00:00, 51976.52it/s]\n",
      "\n",
      "\n"
     ]
    },
    {
     "name": "stdout",
     "output_type": "stream",
     "text": [
      "The default deployment is diabetes-classification-dpl\n"
     ]
    }
   ],
   "source": [
    "#Obtener modelo\n",
    "\n",
    "model_name = \"xgboost_diabetes_classifier\"\n",
    "model = ml_client.models.get(name=model_name, label=\"latest\")\n",
    "\n",
    "#Configurar el ambiente para crear en el caso de que no esté creado\n",
    "env = Environment(\n",
    "    conda_file=\"./.condaenv/deploy_env.yml\",\n",
    "    image=\"mcr.microsoft.com/azureml/openmpi3.1.2-ubuntu18.04:latest\",\n",
    ")\n",
    "\n",
    "#Setear el nombre del computo, este debe ser creado previamente en azure ml\n",
    "compute_name = \"dedicated-cpu-cluster\"\n",
    "\n",
    "\n",
    "deployment = BatchDeployment(\n",
    "    name=\"diabetes-classification-dpl\",\n",
    "    description=\"A deployment using sk-learn to solve the diabetes classification dataset.\",\n",
    "    endpoint_name=endpoint_name,\n",
    "    model=model,\n",
    "    code_configuration=CodeConfiguration(\n",
    "        code=\"./deploy/\", scoring_script=\"batch_driver.py\"\n",
    "    ),\n",
    "    environment=env,\n",
    "    compute=compute_name,\n",
    "    instance_count=1,\n",
    "    max_concurrency_per_instance=1,\n",
    "    mini_batch_size=1,\n",
    "    output_action=BatchDeploymentOutputAction.APPEND_ROW,\n",
    "    output_file_name=\"predictions.csv\",\n",
    "    retry_settings=BatchRetrySettings(max_retries=3, timeout=30),\n",
    "    logging_level=\"info\",\n",
    ")\n",
    "\n",
    "\n",
    "ml_client.begin_create_or_update(deployment).result()\n",
    "\n",
    "\n",
    "endpoint = ml_client.batch_endpoints.get(endpoint_name)\n",
    "endpoint.defaults.deployment_name = deployment.name\n",
    "ml_client.batch_endpoints.begin_create_or_update(endpoint).result()\n",
    "\n",
    "print(f\"The default deployment is {endpoint.defaults.deployment_name}\")"
   ]
  },
  {
   "cell_type": "code",
   "execution_count": 8,
   "metadata": {},
   "outputs": [
    {
     "data": {
      "text/plain": [
       "'andres-diabetes-batch-medby'"
      ]
     },
     "execution_count": 8,
     "metadata": {},
     "output_type": "execute_result"
    }
   ],
   "source": [
    "endpoint_name"
   ]
  },
  {
   "cell_type": "code",
   "execution_count": 9,
   "metadata": {},
   "outputs": [
    {
     "name": "stdout",
     "output_type": "stream",
     "text": [
      "input:  {'type': 'uri_folder', 'path': '/subscriptions/02244025-226f-46fa-91a7-e856e479198d/resourceGroups/rg-analitica-formacion-dev/providers/Microsoft.MachineLearningServices/workspaces/aml-analitica-formacion-dev/data/input_diabetes_folder/versions/1'}\n",
      "batch id:  /subscriptions/02244025-226f-46fa-91a7-e856e479198d/resourceGroups/rg-analitica-formacion-dev/providers/Microsoft.MachineLearningServices/workspaces/aml-analitica-formacion-dev/datastores/workspaceblobstore\n",
      "endpoint name:  andres-diabetes-batch-medby\n"
     ]
    }
   ],
   "source": [
    "data = ml_client.data.get(name=\"input_diabetes_folder\", label=\"latest\")\n",
    "input = Input(type=AssetTypes.URI_FOLDER, path=data.id)\n",
    "batch_ds = ml_client.datastores.get(name=\"workspaceblobstore\")\n",
    "\n",
    "print(\"input: \", input)\n",
    "print(\"batch id: \",batch_ds.id)\n",
    "print(\"endpoint name: \",endpoint_name)"
   ]
  },
  {
   "cell_type": "code",
   "execution_count": 10,
   "metadata": {},
   "outputs": [],
   "source": [
    "import time\n",
    "TS = int(time.time())\n",
    "FILE_RESULT_NAME = f'result_{TS}.json'\n",
    "\n",
    "job = ml_client.batch_endpoints.invoke(\n",
    "    endpoint_name=endpoint_name,\n",
    "    input=input\n",
    ")"
   ]
  },
  {
   "cell_type": "code",
   "execution_count": 13,
   "metadata": {},
   "outputs": [
    {
     "name": "stderr",
     "output_type": "stream",
     "text": [
      "Downloading artifact azureml://datastores/workspaceblobstore/paths/azureml/6e820e2c-ba34-442c-9758-a6815589239f/score/ to named-outputs\\score\n"
     ]
    }
   ],
   "source": [
    "scoring_job = list(ml_client.jobs.list(parent_job_name=job.name))[0]\n",
    "\n",
    "ml_client.jobs.download(name=scoring_job.name, download_path=\".\", output_name=\"score\")"
   ]
  },
  {
   "cell_type": "code",
   "execution_count": 14,
   "metadata": {},
   "outputs": [],
   "source": [
    "import pandas as pd\n",
    "df = pd.read_csv(\"named-outputs/score/predictions.csv\")"
   ]
  },
  {
   "cell_type": "code",
   "execution_count": 15,
   "metadata": {},
   "outputs": [
    {
     "data": {
      "text/html": [
       "<div>\n",
       "<style scoped>\n",
       "    .dataframe tbody tr th:only-of-type {\n",
       "        vertical-align: middle;\n",
       "    }\n",
       "\n",
       "    .dataframe tbody tr th {\n",
       "        vertical-align: top;\n",
       "    }\n",
       "\n",
       "    .dataframe thead th {\n",
       "        text-align: right;\n",
       "    }\n",
       "</style>\n",
       "<table border=\"1\" class=\"dataframe\">\n",
       "  <thead>\n",
       "    <tr style=\"text-align: right;\">\n",
       "      <th></th>\n",
       "      <th>{'predictions': ['diabetes'</th>\n",
       "      <th>'diabetes'</th>\n",
       "      <th>'no diabetes'</th>\n",
       "      <th>'no diabetes']}</th>\n",
       "    </tr>\n",
       "  </thead>\n",
       "  <tbody>\n",
       "  </tbody>\n",
       "</table>\n",
       "</div>"
      ],
      "text/plain": [
       "Empty DataFrame\n",
       "Columns: [{'predictions': ['diabetes',  'diabetes',  'no diabetes',  'no diabetes']}]\n",
       "Index: []"
      ]
     },
     "execution_count": 15,
     "metadata": {},
     "output_type": "execute_result"
    }
   ],
   "source": [
    "df"
   ]
  }
 ],
 "metadata": {
  "kernelspec": {
   "display_name": ".venv",
   "language": "python",
   "name": "python3"
  },
  "language_info": {
   "codemirror_mode": {
    "name": "ipython",
    "version": 3
   },
   "file_extension": ".py",
   "mimetype": "text/x-python",
   "name": "python",
   "nbconvert_exporter": "python",
   "pygments_lexer": "ipython3",
   "version": "3.10.11"
  },
  "orig_nbformat": 4
 },
 "nbformat": 4,
 "nbformat_minor": 2
}
